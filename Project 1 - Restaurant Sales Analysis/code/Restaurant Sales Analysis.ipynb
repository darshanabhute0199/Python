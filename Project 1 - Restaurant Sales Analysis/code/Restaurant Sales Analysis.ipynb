{
 "cells": [
  {
   "cell_type": "code",
   "execution_count": 1,
   "id": "fa0fc5c5-9d24-4448-86a0-72e472a33f7b",
   "metadata": {},
   "outputs": [],
   "source": [
    "#Import Libraries\n",
    "import pandas as pd\n",
    "import matplotlib.pyplot as plt\n",
    "import numpy as np"
   ]
  },
  {
   "cell_type": "code",
   "execution_count": 2,
   "id": "ded0fe1f-8c19-4e4a-88e5-50bd893582e4",
   "metadata": {},
   "outputs": [],
   "source": [
    "#Import Data\n",
    "menu_data = pd.read_csv(r'D:\\darsh\\Python\\Projects\\Project 1 - Restaurant order sales Analysis\\menu_items.csv')\n",
    "order_data = pd.read_csv(r'D:\\darsh\\Python\\Projects\\Project 1 - Restaurant order sales Analysis\\order_details.csv')"
   ]
  },
  {
   "cell_type": "code",
   "execution_count": 3,
   "id": "224dd8a6-9c0f-48fa-9764-e57b6d0c7c1a",
   "metadata": {},
   "outputs": [
    {
     "data": {
      "text/html": [
       "<div>\n",
       "<style scoped>\n",
       "    .dataframe tbody tr th:only-of-type {\n",
       "        vertical-align: middle;\n",
       "    }\n",
       "\n",
       "    .dataframe tbody tr th {\n",
       "        vertical-align: top;\n",
       "    }\n",
       "\n",
       "    .dataframe thead th {\n",
       "        text-align: right;\n",
       "    }\n",
       "</style>\n",
       "<table border=\"1\" class=\"dataframe\">\n",
       "  <thead>\n",
       "    <tr style=\"text-align: right;\">\n",
       "      <th></th>\n",
       "      <th>menu_item_id</th>\n",
       "      <th>item_name</th>\n",
       "      <th>category</th>\n",
       "      <th>price</th>\n",
       "    </tr>\n",
       "  </thead>\n",
       "  <tbody>\n",
       "    <tr>\n",
       "      <th>0</th>\n",
       "      <td>101</td>\n",
       "      <td>Hamburger</td>\n",
       "      <td>American</td>\n",
       "      <td>12.95</td>\n",
       "    </tr>\n",
       "    <tr>\n",
       "      <th>1</th>\n",
       "      <td>102</td>\n",
       "      <td>Cheeseburger</td>\n",
       "      <td>American</td>\n",
       "      <td>13.95</td>\n",
       "    </tr>\n",
       "    <tr>\n",
       "      <th>2</th>\n",
       "      <td>103</td>\n",
       "      <td>Hot Dog</td>\n",
       "      <td>American</td>\n",
       "      <td>9.00</td>\n",
       "    </tr>\n",
       "    <tr>\n",
       "      <th>3</th>\n",
       "      <td>104</td>\n",
       "      <td>Veggie Burger</td>\n",
       "      <td>American</td>\n",
       "      <td>10.50</td>\n",
       "    </tr>\n",
       "    <tr>\n",
       "      <th>4</th>\n",
       "      <td>105</td>\n",
       "      <td>Mac &amp; Cheese</td>\n",
       "      <td>American</td>\n",
       "      <td>7.00</td>\n",
       "    </tr>\n",
       "  </tbody>\n",
       "</table>\n",
       "</div>"
      ],
      "text/plain": [
       "   menu_item_id      item_name  category  price\n",
       "0           101      Hamburger  American  12.95\n",
       "1           102   Cheeseburger  American  13.95\n",
       "2           103        Hot Dog  American   9.00\n",
       "3           104  Veggie Burger  American  10.50\n",
       "4           105   Mac & Cheese  American   7.00"
      ]
     },
     "execution_count": 3,
     "metadata": {},
     "output_type": "execute_result"
    }
   ],
   "source": [
    "menu_data.head()"
   ]
  },
  {
   "cell_type": "code",
   "execution_count": 4,
   "id": "96dade9d-0c11-4d0d-b910-72672cef50f7",
   "metadata": {},
   "outputs": [
    {
     "data": {
      "text/html": [
       "<div>\n",
       "<style scoped>\n",
       "    .dataframe tbody tr th:only-of-type {\n",
       "        vertical-align: middle;\n",
       "    }\n",
       "\n",
       "    .dataframe tbody tr th {\n",
       "        vertical-align: top;\n",
       "    }\n",
       "\n",
       "    .dataframe thead th {\n",
       "        text-align: right;\n",
       "    }\n",
       "</style>\n",
       "<table border=\"1\" class=\"dataframe\">\n",
       "  <thead>\n",
       "    <tr style=\"text-align: right;\">\n",
       "      <th></th>\n",
       "      <th>order_details_id</th>\n",
       "      <th>order_id</th>\n",
       "      <th>order_date</th>\n",
       "      <th>order_time</th>\n",
       "      <th>item_id</th>\n",
       "    </tr>\n",
       "  </thead>\n",
       "  <tbody>\n",
       "    <tr>\n",
       "      <th>0</th>\n",
       "      <td>1</td>\n",
       "      <td>1</td>\n",
       "      <td>1/1/23</td>\n",
       "      <td>11:38:36 AM</td>\n",
       "      <td>109.0</td>\n",
       "    </tr>\n",
       "    <tr>\n",
       "      <th>1</th>\n",
       "      <td>2</td>\n",
       "      <td>2</td>\n",
       "      <td>1/1/23</td>\n",
       "      <td>11:57:40 AM</td>\n",
       "      <td>108.0</td>\n",
       "    </tr>\n",
       "    <tr>\n",
       "      <th>2</th>\n",
       "      <td>3</td>\n",
       "      <td>2</td>\n",
       "      <td>1/1/23</td>\n",
       "      <td>11:57:40 AM</td>\n",
       "      <td>124.0</td>\n",
       "    </tr>\n",
       "    <tr>\n",
       "      <th>3</th>\n",
       "      <td>4</td>\n",
       "      <td>2</td>\n",
       "      <td>1/1/23</td>\n",
       "      <td>11:57:40 AM</td>\n",
       "      <td>117.0</td>\n",
       "    </tr>\n",
       "    <tr>\n",
       "      <th>4</th>\n",
       "      <td>5</td>\n",
       "      <td>2</td>\n",
       "      <td>1/1/23</td>\n",
       "      <td>11:57:40 AM</td>\n",
       "      <td>129.0</td>\n",
       "    </tr>\n",
       "  </tbody>\n",
       "</table>\n",
       "</div>"
      ],
      "text/plain": [
       "   order_details_id  order_id order_date   order_time  item_id\n",
       "0                 1         1     1/1/23  11:38:36 AM    109.0\n",
       "1                 2         2     1/1/23  11:57:40 AM    108.0\n",
       "2                 3         2     1/1/23  11:57:40 AM    124.0\n",
       "3                 4         2     1/1/23  11:57:40 AM    117.0\n",
       "4                 5         2     1/1/23  11:57:40 AM    129.0"
      ]
     },
     "execution_count": 4,
     "metadata": {},
     "output_type": "execute_result"
    }
   ],
   "source": [
    "order_data.head()"
   ]
  },
  {
   "cell_type": "code",
   "execution_count": 5,
   "id": "7ebca644-761c-4e79-85b2-40568567a7c8",
   "metadata": {},
   "outputs": [
    {
     "name": "stdout",
     "output_type": "stream",
     "text": [
      "<class 'pandas.core.frame.DataFrame'>\n",
      "RangeIndex: 32 entries, 0 to 31\n",
      "Data columns (total 4 columns):\n",
      " #   Column        Non-Null Count  Dtype  \n",
      "---  ------        --------------  -----  \n",
      " 0   menu_item_id  32 non-null     int64  \n",
      " 1   item_name     32 non-null     object \n",
      " 2   category      32 non-null     object \n",
      " 3   price         32 non-null     float64\n",
      "dtypes: float64(1), int64(1), object(2)\n",
      "memory usage: 1.1+ KB\n"
     ]
    }
   ],
   "source": [
    "menu_data.info()"
   ]
  },
  {
   "cell_type": "code",
   "execution_count": 6,
   "id": "3278f5cb-2215-4d17-a590-144729508ff1",
   "metadata": {},
   "outputs": [
    {
     "name": "stdout",
     "output_type": "stream",
     "text": [
      "<class 'pandas.core.frame.DataFrame'>\n",
      "RangeIndex: 12234 entries, 0 to 12233\n",
      "Data columns (total 5 columns):\n",
      " #   Column            Non-Null Count  Dtype  \n",
      "---  ------            --------------  -----  \n",
      " 0   order_details_id  12234 non-null  int64  \n",
      " 1   order_id          12234 non-null  int64  \n",
      " 2   order_date        12234 non-null  object \n",
      " 3   order_time        12234 non-null  object \n",
      " 4   item_id           12097 non-null  float64\n",
      "dtypes: float64(1), int64(2), object(2)\n",
      "memory usage: 478.0+ KB\n"
     ]
    }
   ],
   "source": [
    "order_data.info()"
   ]
  },
  {
   "cell_type": "code",
   "execution_count": 7,
   "id": "239b71c6-859d-4739-953b-5e8b12c79f63",
   "metadata": {},
   "outputs": [
    {
     "data": {
      "text/plain": [
       "menu_item_id    0\n",
       "item_name       0\n",
       "category        0\n",
       "price           0\n",
       "dtype: int64"
      ]
     },
     "execution_count": 7,
     "metadata": {},
     "output_type": "execute_result"
    }
   ],
   "source": [
    "#Check Null\n",
    "menu_data.isnull().sum()"
   ]
  },
  {
   "cell_type": "code",
   "execution_count": 8,
   "id": "8b659903-c292-435f-91e3-66c09a7383a1",
   "metadata": {},
   "outputs": [
    {
     "data": {
      "text/plain": [
       "order_details_id      0\n",
       "order_id              0\n",
       "order_date            0\n",
       "order_time            0\n",
       "item_id             137\n",
       "dtype: int64"
      ]
     },
     "execution_count": 8,
     "metadata": {},
     "output_type": "execute_result"
    }
   ],
   "source": [
    "#Check Null\n",
    "order_data.isnull().sum()"
   ]
  },
  {
   "cell_type": "code",
   "execution_count": 9,
   "id": "cc881b8a-f892-439d-a0c8-b4fafc2f5478",
   "metadata": {},
   "outputs": [
    {
     "data": {
      "text/plain": [
       "0"
      ]
     },
     "execution_count": 9,
     "metadata": {},
     "output_type": "execute_result"
    }
   ],
   "source": [
    "#Check Duplication\n",
    "menu_data.duplicated().sum()"
   ]
  },
  {
   "cell_type": "code",
   "execution_count": 10,
   "id": "2d5300cf-bc78-4d33-8f8c-790c2dd22967",
   "metadata": {},
   "outputs": [
    {
     "data": {
      "text/plain": [
       "0"
      ]
     },
     "execution_count": 10,
     "metadata": {},
     "output_type": "execute_result"
    }
   ],
   "source": [
    "#Check Duplication\n",
    "order_data.duplicated().sum()"
   ]
  },
  {
   "cell_type": "code",
   "execution_count": 11,
   "id": "87857459-a7f1-4e11-b765-4dd161e6dfb8",
   "metadata": {},
   "outputs": [
    {
     "data": {
      "text/plain": [
       "array([109., 108., 124., 117., 129., 106., 119., 101., 114., 123., 126.,\n",
       "       110., 122., 130., 132., 105., 102., 113., 104., 107., 121., 125.,\n",
       "       111., 116., 127., 128., 118., 131., 120., 103., 112.,  nan, 115.])"
      ]
     },
     "execution_count": 11,
     "metadata": {},
     "output_type": "execute_result"
    }
   ],
   "source": [
    "order_data[\"item_id\"].unique()"
   ]
  },
  {
   "cell_type": "code",
   "execution_count": 12,
   "id": "03c0197d-158b-418f-b9cd-a4a789f41909",
   "metadata": {},
   "outputs": [],
   "source": [
    "order_data = order_data.dropna()"
   ]
  },
  {
   "cell_type": "code",
   "execution_count": 13,
   "id": "329c4937-9454-4f72-806f-c1225811ea5f",
   "metadata": {},
   "outputs": [
    {
     "data": {
      "text/html": [
       "<div>\n",
       "<style scoped>\n",
       "    .dataframe tbody tr th:only-of-type {\n",
       "        vertical-align: middle;\n",
       "    }\n",
       "\n",
       "    .dataframe tbody tr th {\n",
       "        vertical-align: top;\n",
       "    }\n",
       "\n",
       "    .dataframe thead th {\n",
       "        text-align: right;\n",
       "    }\n",
       "</style>\n",
       "<table border=\"1\" class=\"dataframe\">\n",
       "  <thead>\n",
       "    <tr style=\"text-align: right;\">\n",
       "      <th></th>\n",
       "      <th>order_details_id</th>\n",
       "      <th>order_id</th>\n",
       "      <th>order_date</th>\n",
       "      <th>order_time</th>\n",
       "      <th>item_id</th>\n",
       "    </tr>\n",
       "  </thead>\n",
       "  <tbody>\n",
       "    <tr>\n",
       "      <th>0</th>\n",
       "      <td>1</td>\n",
       "      <td>1</td>\n",
       "      <td>1/1/23</td>\n",
       "      <td>11:38:36 AM</td>\n",
       "      <td>109.0</td>\n",
       "    </tr>\n",
       "    <tr>\n",
       "      <th>1</th>\n",
       "      <td>2</td>\n",
       "      <td>2</td>\n",
       "      <td>1/1/23</td>\n",
       "      <td>11:57:40 AM</td>\n",
       "      <td>108.0</td>\n",
       "    </tr>\n",
       "    <tr>\n",
       "      <th>2</th>\n",
       "      <td>3</td>\n",
       "      <td>2</td>\n",
       "      <td>1/1/23</td>\n",
       "      <td>11:57:40 AM</td>\n",
       "      <td>124.0</td>\n",
       "    </tr>\n",
       "    <tr>\n",
       "      <th>3</th>\n",
       "      <td>4</td>\n",
       "      <td>2</td>\n",
       "      <td>1/1/23</td>\n",
       "      <td>11:57:40 AM</td>\n",
       "      <td>117.0</td>\n",
       "    </tr>\n",
       "    <tr>\n",
       "      <th>4</th>\n",
       "      <td>5</td>\n",
       "      <td>2</td>\n",
       "      <td>1/1/23</td>\n",
       "      <td>11:57:40 AM</td>\n",
       "      <td>129.0</td>\n",
       "    </tr>\n",
       "    <tr>\n",
       "      <th>...</th>\n",
       "      <td>...</td>\n",
       "      <td>...</td>\n",
       "      <td>...</td>\n",
       "      <td>...</td>\n",
       "      <td>...</td>\n",
       "    </tr>\n",
       "    <tr>\n",
       "      <th>12229</th>\n",
       "      <td>12230</td>\n",
       "      <td>5369</td>\n",
       "      <td>3/31/23</td>\n",
       "      <td>10:05:04 PM</td>\n",
       "      <td>109.0</td>\n",
       "    </tr>\n",
       "    <tr>\n",
       "      <th>12230</th>\n",
       "      <td>12231</td>\n",
       "      <td>5369</td>\n",
       "      <td>3/31/23</td>\n",
       "      <td>10:05:04 PM</td>\n",
       "      <td>129.0</td>\n",
       "    </tr>\n",
       "    <tr>\n",
       "      <th>12231</th>\n",
       "      <td>12232</td>\n",
       "      <td>5369</td>\n",
       "      <td>3/31/23</td>\n",
       "      <td>10:05:04 PM</td>\n",
       "      <td>120.0</td>\n",
       "    </tr>\n",
       "    <tr>\n",
       "      <th>12232</th>\n",
       "      <td>12233</td>\n",
       "      <td>5369</td>\n",
       "      <td>3/31/23</td>\n",
       "      <td>10:05:04 PM</td>\n",
       "      <td>122.0</td>\n",
       "    </tr>\n",
       "    <tr>\n",
       "      <th>12233</th>\n",
       "      <td>12234</td>\n",
       "      <td>5370</td>\n",
       "      <td>3/31/23</td>\n",
       "      <td>10:15:48 PM</td>\n",
       "      <td>122.0</td>\n",
       "    </tr>\n",
       "  </tbody>\n",
       "</table>\n",
       "<p>12097 rows × 5 columns</p>\n",
       "</div>"
      ],
      "text/plain": [
       "       order_details_id  order_id order_date   order_time  item_id\n",
       "0                     1         1     1/1/23  11:38:36 AM    109.0\n",
       "1                     2         2     1/1/23  11:57:40 AM    108.0\n",
       "2                     3         2     1/1/23  11:57:40 AM    124.0\n",
       "3                     4         2     1/1/23  11:57:40 AM    117.0\n",
       "4                     5         2     1/1/23  11:57:40 AM    129.0\n",
       "...                 ...       ...        ...          ...      ...\n",
       "12229             12230      5369    3/31/23  10:05:04 PM    109.0\n",
       "12230             12231      5369    3/31/23  10:05:04 PM    129.0\n",
       "12231             12232      5369    3/31/23  10:05:04 PM    120.0\n",
       "12232             12233      5369    3/31/23  10:05:04 PM    122.0\n",
       "12233             12234      5370    3/31/23  10:15:48 PM    122.0\n",
       "\n",
       "[12097 rows x 5 columns]"
      ]
     },
     "execution_count": 13,
     "metadata": {},
     "output_type": "execute_result"
    }
   ],
   "source": [
    "order_data"
   ]
  },
  {
   "cell_type": "code",
   "execution_count": 14,
   "id": "c25b7d80-ce48-4503-acd1-f874abfb8dad",
   "metadata": {},
   "outputs": [
    {
     "data": {
      "text/plain": [
       "array([109., 108., 124., 117., 129., 106., 119., 101., 114., 123., 126.,\n",
       "       110., 122., 130., 132., 105., 102., 113., 104., 107., 121., 125.,\n",
       "       111., 116., 127., 128., 118., 131., 120., 103., 112., 115.])"
      ]
     },
     "execution_count": 14,
     "metadata": {},
     "output_type": "execute_result"
    }
   ],
   "source": [
    "order_data[\"item_id\"].unique()"
   ]
  },
  {
   "cell_type": "code",
   "execution_count": 15,
   "id": "f5303675-4cf4-409d-91b7-f9a42853e21c",
   "metadata": {},
   "outputs": [
    {
     "data": {
      "text/plain": [
       "order_details_id    0\n",
       "order_id            0\n",
       "order_date          0\n",
       "order_time          0\n",
       "item_id             0\n",
       "dtype: int64"
      ]
     },
     "execution_count": 15,
     "metadata": {},
     "output_type": "execute_result"
    }
   ],
   "source": [
    "#Check Null\n",
    "order_data.isnull().sum()"
   ]
  },
  {
   "cell_type": "code",
   "execution_count": 16,
   "id": "37978b47-0ad0-41e4-9ef7-629266861697",
   "metadata": {},
   "outputs": [
    {
     "name": "stdout",
     "output_type": "stream",
     "text": [
      "<class 'pandas.core.frame.DataFrame'>\n",
      "Index: 12097 entries, 0 to 12233\n",
      "Data columns (total 5 columns):\n",
      " #   Column            Non-Null Count  Dtype  \n",
      "---  ------            --------------  -----  \n",
      " 0   order_details_id  12097 non-null  int64  \n",
      " 1   order_id          12097 non-null  int64  \n",
      " 2   order_date        12097 non-null  object \n",
      " 3   order_time        12097 non-null  object \n",
      " 4   item_id           12097 non-null  float64\n",
      "dtypes: float64(1), int64(2), object(2)\n",
      "memory usage: 567.0+ KB\n"
     ]
    }
   ],
   "source": [
    "order_data.info()"
   ]
  },
  {
   "cell_type": "code",
   "execution_count": 17,
   "id": "ffc39f52-4822-4075-a1e5-98ad5c634c86",
   "metadata": {},
   "outputs": [],
   "source": [
    "#convert item_id datatype float into int\n",
    "order_data[\"item_id\"] = np.ceil(order_data[\"item_id\"]).astype(int)"
   ]
  },
  {
   "cell_type": "code",
   "execution_count": 18,
   "id": "e6841c56-c57e-4b9e-bd17-050a31c7c6b7",
   "metadata": {},
   "outputs": [
    {
     "data": {
      "text/plain": [
       "dtype('int32')"
      ]
     },
     "execution_count": 18,
     "metadata": {},
     "output_type": "execute_result"
    }
   ],
   "source": [
    "order_data[\"item_id\"].dtype"
   ]
  },
  {
   "cell_type": "code",
   "execution_count": 20,
   "id": "c479b60c-9422-4e04-ad68-13154cb2fde7",
   "metadata": {},
   "outputs": [],
   "source": [
    "#convert order_date datatype object into date\n",
    "order_data[\"order_date\"] = pd.to_datetime(order_data[\"order_date\"],format=\"mixed\")"
   ]
  },
  {
   "cell_type": "code",
   "execution_count": 22,
   "id": "f9c6775e-0602-4fef-91ef-f1ff90d4cf5f",
   "metadata": {},
   "outputs": [
    {
     "name": "stdout",
     "output_type": "stream",
     "text": [
      "<class 'pandas.core.series.Series'>\n",
      "Index: 12097 entries, 0 to 12233\n",
      "Series name: order_date\n",
      "Non-Null Count  Dtype         \n",
      "--------------  -----         \n",
      "12097 non-null  datetime64[ns]\n",
      "dtypes: datetime64[ns](1)\n",
      "memory usage: 189.0 KB\n"
     ]
    }
   ],
   "source": [
    "order_data[\"order_date\"].info()"
   ]
  },
  {
   "cell_type": "code",
   "execution_count": 23,
   "id": "254b33da-55ed-42e1-b100-89599da7b5d5",
   "metadata": {},
   "outputs": [
    {
     "data": {
      "text/html": [
       "<div>\n",
       "<style scoped>\n",
       "    .dataframe tbody tr th:only-of-type {\n",
       "        vertical-align: middle;\n",
       "    }\n",
       "\n",
       "    .dataframe tbody tr th {\n",
       "        vertical-align: top;\n",
       "    }\n",
       "\n",
       "    .dataframe thead th {\n",
       "        text-align: right;\n",
       "    }\n",
       "</style>\n",
       "<table border=\"1\" class=\"dataframe\">\n",
       "  <thead>\n",
       "    <tr style=\"text-align: right;\">\n",
       "      <th></th>\n",
       "      <th>order_details_id</th>\n",
       "      <th>order_id</th>\n",
       "      <th>order_date</th>\n",
       "      <th>order_time</th>\n",
       "      <th>item_id</th>\n",
       "    </tr>\n",
       "  </thead>\n",
       "  <tbody>\n",
       "    <tr>\n",
       "      <th>0</th>\n",
       "      <td>1</td>\n",
       "      <td>1</td>\n",
       "      <td>2023-01-01</td>\n",
       "      <td>11:38:36 AM</td>\n",
       "      <td>109</td>\n",
       "    </tr>\n",
       "    <tr>\n",
       "      <th>1</th>\n",
       "      <td>2</td>\n",
       "      <td>2</td>\n",
       "      <td>2023-01-01</td>\n",
       "      <td>11:57:40 AM</td>\n",
       "      <td>108</td>\n",
       "    </tr>\n",
       "    <tr>\n",
       "      <th>2</th>\n",
       "      <td>3</td>\n",
       "      <td>2</td>\n",
       "      <td>2023-01-01</td>\n",
       "      <td>11:57:40 AM</td>\n",
       "      <td>124</td>\n",
       "    </tr>\n",
       "    <tr>\n",
       "      <th>3</th>\n",
       "      <td>4</td>\n",
       "      <td>2</td>\n",
       "      <td>2023-01-01</td>\n",
       "      <td>11:57:40 AM</td>\n",
       "      <td>117</td>\n",
       "    </tr>\n",
       "    <tr>\n",
       "      <th>4</th>\n",
       "      <td>5</td>\n",
       "      <td>2</td>\n",
       "      <td>2023-01-01</td>\n",
       "      <td>11:57:40 AM</td>\n",
       "      <td>129</td>\n",
       "    </tr>\n",
       "  </tbody>\n",
       "</table>\n",
       "</div>"
      ],
      "text/plain": [
       "   order_details_id  order_id order_date   order_time  item_id\n",
       "0                 1         1 2023-01-01  11:38:36 AM      109\n",
       "1                 2         2 2023-01-01  11:57:40 AM      108\n",
       "2                 3         2 2023-01-01  11:57:40 AM      124\n",
       "3                 4         2 2023-01-01  11:57:40 AM      117\n",
       "4                 5         2 2023-01-01  11:57:40 AM      129"
      ]
     },
     "execution_count": 23,
     "metadata": {},
     "output_type": "execute_result"
    }
   ],
   "source": [
    "order_data.head()"
   ]
  },
  {
   "cell_type": "code",
   "execution_count": 24,
   "id": "aecc6811-d8c6-41b6-a560-0b239039e156",
   "metadata": {},
   "outputs": [],
   "source": [
    "#Extract Month from date\n",
    "order_data[\"Order Month\"] = order_data[\"order_date\"].dt.strftime('%b')"
   ]
  },
  {
   "cell_type": "code",
   "execution_count": 25,
   "id": "b148b5b9-8f72-48ff-aa41-6f0eafe90b68",
   "metadata": {},
   "outputs": [
    {
     "data": {
      "text/html": [
       "<div>\n",
       "<style scoped>\n",
       "    .dataframe tbody tr th:only-of-type {\n",
       "        vertical-align: middle;\n",
       "    }\n",
       "\n",
       "    .dataframe tbody tr th {\n",
       "        vertical-align: top;\n",
       "    }\n",
       "\n",
       "    .dataframe thead th {\n",
       "        text-align: right;\n",
       "    }\n",
       "</style>\n",
       "<table border=\"1\" class=\"dataframe\">\n",
       "  <thead>\n",
       "    <tr style=\"text-align: right;\">\n",
       "      <th></th>\n",
       "      <th>order_details_id</th>\n",
       "      <th>order_id</th>\n",
       "      <th>order_date</th>\n",
       "      <th>order_time</th>\n",
       "      <th>item_id</th>\n",
       "      <th>Order Month</th>\n",
       "    </tr>\n",
       "  </thead>\n",
       "  <tbody>\n",
       "    <tr>\n",
       "      <th>0</th>\n",
       "      <td>1</td>\n",
       "      <td>1</td>\n",
       "      <td>2023-01-01</td>\n",
       "      <td>11:38:36 AM</td>\n",
       "      <td>109</td>\n",
       "      <td>Jan</td>\n",
       "    </tr>\n",
       "    <tr>\n",
       "      <th>1</th>\n",
       "      <td>2</td>\n",
       "      <td>2</td>\n",
       "      <td>2023-01-01</td>\n",
       "      <td>11:57:40 AM</td>\n",
       "      <td>108</td>\n",
       "      <td>Jan</td>\n",
       "    </tr>\n",
       "    <tr>\n",
       "      <th>2</th>\n",
       "      <td>3</td>\n",
       "      <td>2</td>\n",
       "      <td>2023-01-01</td>\n",
       "      <td>11:57:40 AM</td>\n",
       "      <td>124</td>\n",
       "      <td>Jan</td>\n",
       "    </tr>\n",
       "    <tr>\n",
       "      <th>3</th>\n",
       "      <td>4</td>\n",
       "      <td>2</td>\n",
       "      <td>2023-01-01</td>\n",
       "      <td>11:57:40 AM</td>\n",
       "      <td>117</td>\n",
       "      <td>Jan</td>\n",
       "    </tr>\n",
       "    <tr>\n",
       "      <th>4</th>\n",
       "      <td>5</td>\n",
       "      <td>2</td>\n",
       "      <td>2023-01-01</td>\n",
       "      <td>11:57:40 AM</td>\n",
       "      <td>129</td>\n",
       "      <td>Jan</td>\n",
       "    </tr>\n",
       "  </tbody>\n",
       "</table>\n",
       "</div>"
      ],
      "text/plain": [
       "   order_details_id  order_id order_date   order_time  item_id Order Month\n",
       "0                 1         1 2023-01-01  11:38:36 AM      109         Jan\n",
       "1                 2         2 2023-01-01  11:57:40 AM      108         Jan\n",
       "2                 3         2 2023-01-01  11:57:40 AM      124         Jan\n",
       "3                 4         2 2023-01-01  11:57:40 AM      117         Jan\n",
       "4                 5         2 2023-01-01  11:57:40 AM      129         Jan"
      ]
     },
     "execution_count": 25,
     "metadata": {},
     "output_type": "execute_result"
    }
   ],
   "source": [
    "order_data.head()"
   ]
  },
  {
   "cell_type": "code",
   "execution_count": 26,
   "id": "6921784b-68d2-4b98-92ce-15491c9e9055",
   "metadata": {},
   "outputs": [
    {
     "data": {
      "text/html": [
       "<div>\n",
       "<style scoped>\n",
       "    .dataframe tbody tr th:only-of-type {\n",
       "        vertical-align: middle;\n",
       "    }\n",
       "\n",
       "    .dataframe tbody tr th {\n",
       "        vertical-align: top;\n",
       "    }\n",
       "\n",
       "    .dataframe thead th {\n",
       "        text-align: right;\n",
       "    }\n",
       "</style>\n",
       "<table border=\"1\" class=\"dataframe\">\n",
       "  <thead>\n",
       "    <tr style=\"text-align: right;\">\n",
       "      <th></th>\n",
       "      <th>menu_item_id</th>\n",
       "      <th>item_name</th>\n",
       "      <th>category</th>\n",
       "      <th>price</th>\n",
       "      <th>order_details_id</th>\n",
       "      <th>order_id</th>\n",
       "      <th>order_date</th>\n",
       "      <th>order_time</th>\n",
       "      <th>item_id</th>\n",
       "      <th>Order Month</th>\n",
       "    </tr>\n",
       "  </thead>\n",
       "  <tbody>\n",
       "    <tr>\n",
       "      <th>0</th>\n",
       "      <td>101</td>\n",
       "      <td>Hamburger</td>\n",
       "      <td>American</td>\n",
       "      <td>12.95</td>\n",
       "      <td>11</td>\n",
       "      <td>6</td>\n",
       "      <td>2023-01-01</td>\n",
       "      <td>12:29:36 PM</td>\n",
       "      <td>101</td>\n",
       "      <td>Jan</td>\n",
       "    </tr>\n",
       "    <tr>\n",
       "      <th>1</th>\n",
       "      <td>101</td>\n",
       "      <td>Hamburger</td>\n",
       "      <td>American</td>\n",
       "      <td>12.95</td>\n",
       "      <td>26</td>\n",
       "      <td>11</td>\n",
       "      <td>2023-01-01</td>\n",
       "      <td>1:02:59 PM</td>\n",
       "      <td>101</td>\n",
       "      <td>Jan</td>\n",
       "    </tr>\n",
       "    <tr>\n",
       "      <th>2</th>\n",
       "      <td>101</td>\n",
       "      <td>Hamburger</td>\n",
       "      <td>American</td>\n",
       "      <td>12.95</td>\n",
       "      <td>43</td>\n",
       "      <td>17</td>\n",
       "      <td>2023-01-01</td>\n",
       "      <td>1:53:00 PM</td>\n",
       "      <td>101</td>\n",
       "      <td>Jan</td>\n",
       "    </tr>\n",
       "    <tr>\n",
       "      <th>3</th>\n",
       "      <td>101</td>\n",
       "      <td>Hamburger</td>\n",
       "      <td>American</td>\n",
       "      <td>12.95</td>\n",
       "      <td>63</td>\n",
       "      <td>24</td>\n",
       "      <td>2023-01-01</td>\n",
       "      <td>2:23:01 PM</td>\n",
       "      <td>101</td>\n",
       "      <td>Jan</td>\n",
       "    </tr>\n",
       "    <tr>\n",
       "      <th>4</th>\n",
       "      <td>101</td>\n",
       "      <td>Hamburger</td>\n",
       "      <td>American</td>\n",
       "      <td>12.95</td>\n",
       "      <td>71</td>\n",
       "      <td>27</td>\n",
       "      <td>2023-01-01</td>\n",
       "      <td>3:11:17 PM</td>\n",
       "      <td>101</td>\n",
       "      <td>Jan</td>\n",
       "    </tr>\n",
       "  </tbody>\n",
       "</table>\n",
       "</div>"
      ],
      "text/plain": [
       "   menu_item_id  item_name  category  price  order_details_id  order_id  \\\n",
       "0           101  Hamburger  American  12.95                11         6   \n",
       "1           101  Hamburger  American  12.95                26        11   \n",
       "2           101  Hamburger  American  12.95                43        17   \n",
       "3           101  Hamburger  American  12.95                63        24   \n",
       "4           101  Hamburger  American  12.95                71        27   \n",
       "\n",
       "  order_date   order_time  item_id Order Month  \n",
       "0 2023-01-01  12:29:36 PM      101         Jan  \n",
       "1 2023-01-01   1:02:59 PM      101         Jan  \n",
       "2 2023-01-01   1:53:00 PM      101         Jan  \n",
       "3 2023-01-01   2:23:01 PM      101         Jan  \n",
       "4 2023-01-01   3:11:17 PM      101         Jan  "
      ]
     },
     "execution_count": 26,
     "metadata": {},
     "output_type": "execute_result"
    }
   ],
   "source": [
    "#Merge two Dataframes\n",
    "data = pd.merge(menu_data, order_data, left_on='menu_item_id', right_on='item_id', how='inner')\n",
    "data.head()"
   ]
  },
  {
   "cell_type": "code",
   "execution_count": 27,
   "id": "047b6d9f-3a97-4d03-813e-9d791c26cd41",
   "metadata": {},
   "outputs": [
    {
     "data": {
      "text/html": [
       "<div>\n",
       "<style scoped>\n",
       "    .dataframe tbody tr th:only-of-type {\n",
       "        vertical-align: middle;\n",
       "    }\n",
       "\n",
       "    .dataframe tbody tr th {\n",
       "        vertical-align: top;\n",
       "    }\n",
       "\n",
       "    .dataframe thead th {\n",
       "        text-align: right;\n",
       "    }\n",
       "</style>\n",
       "<table border=\"1\" class=\"dataframe\">\n",
       "  <thead>\n",
       "    <tr style=\"text-align: right;\">\n",
       "      <th></th>\n",
       "      <th>category</th>\n",
       "    </tr>\n",
       "  </thead>\n",
       "  <tbody>\n",
       "    <tr>\n",
       "      <th>0</th>\n",
       "      <td>American</td>\n",
       "    </tr>\n",
       "    <tr>\n",
       "      <th>1</th>\n",
       "      <td>Asian</td>\n",
       "    </tr>\n",
       "    <tr>\n",
       "      <th>2</th>\n",
       "      <td>Mexican</td>\n",
       "    </tr>\n",
       "    <tr>\n",
       "      <th>3</th>\n",
       "      <td>Italian</td>\n",
       "    </tr>\n",
       "  </tbody>\n",
       "</table>\n",
       "</div>"
      ],
      "text/plain": [
       "   category\n",
       "0  American\n",
       "1     Asian\n",
       "2   Mexican\n",
       "3   Italian"
      ]
     },
     "execution_count": 27,
     "metadata": {},
     "output_type": "execute_result"
    }
   ],
   "source": [
    "#Category in Menu\n",
    "category_list = pd.DataFrame(menu_data[\"category\"].unique(),columns = [\"category\"])\n",
    "category_list"
   ]
  },
  {
   "cell_type": "code",
   "execution_count": 28,
   "id": "d6824c0e-3f7b-453a-a2cb-d398660308bc",
   "metadata": {},
   "outputs": [
    {
     "data": {
      "text/html": [
       "<div>\n",
       "<style scoped>\n",
       "    .dataframe tbody tr th:only-of-type {\n",
       "        vertical-align: middle;\n",
       "    }\n",
       "\n",
       "    .dataframe tbody tr th {\n",
       "        vertical-align: top;\n",
       "    }\n",
       "\n",
       "    .dataframe thead th {\n",
       "        text-align: right;\n",
       "    }\n",
       "</style>\n",
       "<table border=\"1\" class=\"dataframe\">\n",
       "  <thead>\n",
       "    <tr style=\"text-align: right;\">\n",
       "      <th></th>\n",
       "      <th>Items</th>\n",
       "    </tr>\n",
       "  </thead>\n",
       "  <tbody>\n",
       "    <tr>\n",
       "      <th>0</th>\n",
       "      <td>Hamburger</td>\n",
       "    </tr>\n",
       "    <tr>\n",
       "      <th>1</th>\n",
       "      <td>Cheeseburger</td>\n",
       "    </tr>\n",
       "    <tr>\n",
       "      <th>2</th>\n",
       "      <td>Hot Dog</td>\n",
       "    </tr>\n",
       "    <tr>\n",
       "      <th>3</th>\n",
       "      <td>Veggie Burger</td>\n",
       "    </tr>\n",
       "    <tr>\n",
       "      <th>4</th>\n",
       "      <td>Mac &amp; Cheese</td>\n",
       "    </tr>\n",
       "    <tr>\n",
       "      <th>5</th>\n",
       "      <td>French Fries</td>\n",
       "    </tr>\n",
       "    <tr>\n",
       "      <th>6</th>\n",
       "      <td>Orange Chicken</td>\n",
       "    </tr>\n",
       "    <tr>\n",
       "      <th>7</th>\n",
       "      <td>Tofu Pad Thai</td>\n",
       "    </tr>\n",
       "    <tr>\n",
       "      <th>8</th>\n",
       "      <td>Korean Beef Bowl</td>\n",
       "    </tr>\n",
       "    <tr>\n",
       "      <th>9</th>\n",
       "      <td>Pork Ramen</td>\n",
       "    </tr>\n",
       "    <tr>\n",
       "      <th>10</th>\n",
       "      <td>California Roll</td>\n",
       "    </tr>\n",
       "    <tr>\n",
       "      <th>11</th>\n",
       "      <td>Salmon Roll</td>\n",
       "    </tr>\n",
       "    <tr>\n",
       "      <th>12</th>\n",
       "      <td>Edamame</td>\n",
       "    </tr>\n",
       "    <tr>\n",
       "      <th>13</th>\n",
       "      <td>Potstickers</td>\n",
       "    </tr>\n",
       "    <tr>\n",
       "      <th>14</th>\n",
       "      <td>Chicken Tacos</td>\n",
       "    </tr>\n",
       "    <tr>\n",
       "      <th>15</th>\n",
       "      <td>Steak Tacos</td>\n",
       "    </tr>\n",
       "    <tr>\n",
       "      <th>16</th>\n",
       "      <td>Chicken Burrito</td>\n",
       "    </tr>\n",
       "    <tr>\n",
       "      <th>17</th>\n",
       "      <td>Steak Burrito</td>\n",
       "    </tr>\n",
       "    <tr>\n",
       "      <th>18</th>\n",
       "      <td>Chicken Torta</td>\n",
       "    </tr>\n",
       "    <tr>\n",
       "      <th>19</th>\n",
       "      <td>Steak Torta</td>\n",
       "    </tr>\n",
       "    <tr>\n",
       "      <th>20</th>\n",
       "      <td>Cheese Quesadillas</td>\n",
       "    </tr>\n",
       "    <tr>\n",
       "      <th>21</th>\n",
       "      <td>Chips &amp; Salsa</td>\n",
       "    </tr>\n",
       "    <tr>\n",
       "      <th>22</th>\n",
       "      <td>Chips &amp; Guacamole</td>\n",
       "    </tr>\n",
       "    <tr>\n",
       "      <th>23</th>\n",
       "      <td>Spaghetti</td>\n",
       "    </tr>\n",
       "    <tr>\n",
       "      <th>24</th>\n",
       "      <td>Spaghetti &amp; Meatballs</td>\n",
       "    </tr>\n",
       "    <tr>\n",
       "      <th>25</th>\n",
       "      <td>Fettuccine Alfredo</td>\n",
       "    </tr>\n",
       "    <tr>\n",
       "      <th>26</th>\n",
       "      <td>Meat Lasagna</td>\n",
       "    </tr>\n",
       "    <tr>\n",
       "      <th>27</th>\n",
       "      <td>Cheese Lasagna</td>\n",
       "    </tr>\n",
       "    <tr>\n",
       "      <th>28</th>\n",
       "      <td>Mushroom Ravioli</td>\n",
       "    </tr>\n",
       "    <tr>\n",
       "      <th>29</th>\n",
       "      <td>Shrimp Scampi</td>\n",
       "    </tr>\n",
       "    <tr>\n",
       "      <th>30</th>\n",
       "      <td>Chicken Parmesan</td>\n",
       "    </tr>\n",
       "    <tr>\n",
       "      <th>31</th>\n",
       "      <td>Eggplant Parmesan</td>\n",
       "    </tr>\n",
       "  </tbody>\n",
       "</table>\n",
       "</div>"
      ],
      "text/plain": [
       "                    Items\n",
       "0               Hamburger\n",
       "1            Cheeseburger\n",
       "2                 Hot Dog\n",
       "3           Veggie Burger\n",
       "4            Mac & Cheese\n",
       "5            French Fries\n",
       "6          Orange Chicken\n",
       "7           Tofu Pad Thai\n",
       "8        Korean Beef Bowl\n",
       "9              Pork Ramen\n",
       "10        California Roll\n",
       "11            Salmon Roll\n",
       "12                Edamame\n",
       "13            Potstickers\n",
       "14          Chicken Tacos\n",
       "15            Steak Tacos\n",
       "16        Chicken Burrito\n",
       "17          Steak Burrito\n",
       "18          Chicken Torta\n",
       "19            Steak Torta\n",
       "20     Cheese Quesadillas\n",
       "21          Chips & Salsa\n",
       "22      Chips & Guacamole\n",
       "23              Spaghetti\n",
       "24  Spaghetti & Meatballs\n",
       "25     Fettuccine Alfredo\n",
       "26           Meat Lasagna\n",
       "27         Cheese Lasagna\n",
       "28       Mushroom Ravioli\n",
       "29          Shrimp Scampi\n",
       "30       Chicken Parmesan\n",
       "31      Eggplant Parmesan"
      ]
     },
     "execution_count": 28,
     "metadata": {},
     "output_type": "execute_result"
    }
   ],
   "source": [
    "##item list in menu\n",
    "item_list = pd.DataFrame(menu_data[\"item_name\"].unique(),columns = [\"Items\"])\n",
    "item_list"
   ]
  },
  {
   "cell_type": "code",
   "execution_count": 29,
   "id": "f0d6d2b5-35c4-4717-8483-42f4c893a032",
   "metadata": {},
   "outputs": [
    {
     "data": {
      "text/html": [
       "<div>\n",
       "<style scoped>\n",
       "    .dataframe tbody tr th:only-of-type {\n",
       "        vertical-align: middle;\n",
       "    }\n",
       "\n",
       "    .dataframe tbody tr th {\n",
       "        vertical-align: top;\n",
       "    }\n",
       "\n",
       "    .dataframe thead th {\n",
       "        text-align: right;\n",
       "    }\n",
       "</style>\n",
       "<table border=\"1\" class=\"dataframe\">\n",
       "  <thead>\n",
       "    <tr style=\"text-align: right;\">\n",
       "      <th></th>\n",
       "      <th>menu_item_id</th>\n",
       "      <th>item_name</th>\n",
       "      <th>category</th>\n",
       "      <th>price</th>\n",
       "    </tr>\n",
       "  </thead>\n",
       "  <tbody>\n",
       "    <tr>\n",
       "      <th>29</th>\n",
       "      <td>130</td>\n",
       "      <td>Shrimp Scampi</td>\n",
       "      <td>Italian</td>\n",
       "      <td>19.95</td>\n",
       "    </tr>\n",
       "  </tbody>\n",
       "</table>\n",
       "</div>"
      ],
      "text/plain": [
       "    menu_item_id      item_name category  price\n",
       "29           130  Shrimp Scampi  Italian  19.95"
      ]
     },
     "execution_count": 29,
     "metadata": {},
     "output_type": "execute_result"
    }
   ],
   "source": [
    "#Most Expensive Item in menu\n",
    "most_exp_item = menu_data.sort_values(['price'],ascending=[False])\n",
    "most_exp_item.head(1)"
   ]
  },
  {
   "cell_type": "code",
   "execution_count": 30,
   "id": "7be2ad10-e8ac-4578-b8c9-a8f35b1b7bf4",
   "metadata": {},
   "outputs": [
    {
     "data": {
      "text/html": [
       "<div>\n",
       "<style scoped>\n",
       "    .dataframe tbody tr th:only-of-type {\n",
       "        vertical-align: middle;\n",
       "    }\n",
       "\n",
       "    .dataframe tbody tr th {\n",
       "        vertical-align: top;\n",
       "    }\n",
       "\n",
       "    .dataframe thead th {\n",
       "        text-align: right;\n",
       "    }\n",
       "</style>\n",
       "<table border=\"1\" class=\"dataframe\">\n",
       "  <thead>\n",
       "    <tr style=\"text-align: right;\">\n",
       "      <th></th>\n",
       "      <th>menu_item_id</th>\n",
       "      <th>item_name</th>\n",
       "      <th>category</th>\n",
       "      <th>price</th>\n",
       "    </tr>\n",
       "  </thead>\n",
       "  <tbody>\n",
       "    <tr>\n",
       "      <th>12</th>\n",
       "      <td>113</td>\n",
       "      <td>Edamame</td>\n",
       "      <td>Asian</td>\n",
       "      <td>5.0</td>\n",
       "    </tr>\n",
       "  </tbody>\n",
       "</table>\n",
       "</div>"
      ],
      "text/plain": [
       "    menu_item_id item_name category  price\n",
       "12           113   Edamame    Asian    5.0"
      ]
     },
     "execution_count": 30,
     "metadata": {},
     "output_type": "execute_result"
    }
   ],
   "source": [
    "#Most Cheap Item\n",
    "most_cheap_item = menu_data.sort_values(['price'],ascending=[True])\n",
    "most_cheap_item.head(1)"
   ]
  },
  {
   "cell_type": "code",
   "execution_count": 31,
   "id": "6079a7f9-5e87-4bfa-bff5-b110739ce628",
   "metadata": {},
   "outputs": [
    {
     "name": "stdout",
     "output_type": "stream",
     "text": [
      "Total Orders :  5343\n"
     ]
    }
   ],
   "source": [
    "print('Total Orders : ',order_data[\"order_id\"].nunique())"
   ]
  },
  {
   "cell_type": "code",
   "execution_count": 32,
   "id": "2fc52a2c-a920-4894-8ed1-0cf5de8a2d5f",
   "metadata": {},
   "outputs": [
    {
     "name": "stdout",
     "output_type": "stream",
     "text": [
      "Total Sales :  159217.9\n"
     ]
    }
   ],
   "source": [
    "print('Total Sales : ',data[\"price\"].sum().round(2))"
   ]
  },
  {
   "cell_type": "code",
   "execution_count": 47,
   "id": "5a5638ee-7233-4137-bc3b-00fa37a760ea",
   "metadata": {},
   "outputs": [
    {
     "data": {
      "text/html": [
       "<div>\n",
       "<style scoped>\n",
       "    .dataframe tbody tr th:only-of-type {\n",
       "        vertical-align: middle;\n",
       "    }\n",
       "\n",
       "    .dataframe tbody tr th {\n",
       "        vertical-align: top;\n",
       "    }\n",
       "\n",
       "    .dataframe thead th {\n",
       "        text-align: right;\n",
       "    }\n",
       "</style>\n",
       "<table border=\"1\" class=\"dataframe\">\n",
       "  <thead>\n",
       "    <tr style=\"text-align: right;\">\n",
       "      <th></th>\n",
       "      <th>category</th>\n",
       "      <th>order</th>\n",
       "    </tr>\n",
       "  </thead>\n",
       "  <tbody>\n",
       "    <tr>\n",
       "      <th>0</th>\n",
       "      <td>Asian</td>\n",
       "      <td>3470</td>\n",
       "    </tr>\n",
       "    <tr>\n",
       "      <th>1</th>\n",
       "      <td>Italian</td>\n",
       "      <td>2948</td>\n",
       "    </tr>\n",
       "    <tr>\n",
       "      <th>2</th>\n",
       "      <td>Mexican</td>\n",
       "      <td>2945</td>\n",
       "    </tr>\n",
       "    <tr>\n",
       "      <th>3</th>\n",
       "      <td>American</td>\n",
       "      <td>2734</td>\n",
       "    </tr>\n",
       "  </tbody>\n",
       "</table>\n",
       "</div>"
      ],
      "text/plain": [
       "   category  order\n",
       "0     Asian   3470\n",
       "1   Italian   2948\n",
       "2   Mexican   2945\n",
       "3  American   2734"
      ]
     },
     "execution_count": 47,
     "metadata": {},
     "output_type": "execute_result"
    }
   ],
   "source": [
    "#Most Item ordered by which Category\n",
    "#Create Dataframe\n",
    "category_data = data[[\"order_details_id\",\"category\"]].copy()\n",
    "#Rename columns\n",
    "category_data = category_data.rename(columns ={'order_details_id' : 'order','category': 'category'})\n",
    "#Filter and Sorting\n",
    "category_data = category_data.groupby('category').count().sort_values('order',ascending=[False])\n",
    "category_data = category_data.head()\n",
    "#Reset Index\n",
    "category_data = category_data.reset_index()\n",
    "category_data"
   ]
  },
  {
   "cell_type": "code",
   "execution_count": 55,
   "id": "84857d26-6a42-4642-b058-6f8e564e66b5",
   "metadata": {},
   "outputs": [
    {
     "data": {
      "image/png": "[encoded data removed]",
      "text/plain": [
       "<Figure size 640x480 with 1 Axes>"
      ]
     },
     "metadata": {},
     "output_type": "display_data"
    }
   ],
   "source": [
    "plt.pie(category_data[\"order\"],labels = category_data[\"category\"],autopct = \"%0.2f%%\",radius = 0.60)\n",
    "plt.legend(loc=2)\n",
    "plt.title(\"Most Item ordered by which Category\")\n",
    "plt.show()"
   ]
  },
  {
   "cell_type": "code",
   "execution_count": 35,
   "id": "c39676f5-1a99-482a-95a5-225870f0224a",
   "metadata": {},
   "outputs": [
    {
     "data": {
      "text/html": [
       "<div>\n",
       "<style scoped>\n",
       "    .dataframe tbody tr th:only-of-type {\n",
       "        vertical-align: middle;\n",
       "    }\n",
       "\n",
       "    .dataframe tbody tr th {\n",
       "        vertical-align: top;\n",
       "    }\n",
       "\n",
       "    .dataframe thead th {\n",
       "        text-align: right;\n",
       "    }\n",
       "</style>\n",
       "<table border=\"1\" class=\"dataframe\">\n",
       "  <thead>\n",
       "    <tr style=\"text-align: right;\">\n",
       "      <th></th>\n",
       "      <th>items</th>\n",
       "      <th>How Many Times order</th>\n",
       "    </tr>\n",
       "  </thead>\n",
       "  <tbody>\n",
       "    <tr>\n",
       "      <th>0</th>\n",
       "      <td>Hamburger</td>\n",
       "      <td>622</td>\n",
       "    </tr>\n",
       "    <tr>\n",
       "      <th>1</th>\n",
       "      <td>Edamame</td>\n",
       "      <td>620</td>\n",
       "    </tr>\n",
       "    <tr>\n",
       "      <th>2</th>\n",
       "      <td>Korean Beef Bowl</td>\n",
       "      <td>588</td>\n",
       "    </tr>\n",
       "    <tr>\n",
       "      <th>3</th>\n",
       "      <td>Cheeseburger</td>\n",
       "      <td>583</td>\n",
       "    </tr>\n",
       "    <tr>\n",
       "      <th>4</th>\n",
       "      <td>French Fries</td>\n",
       "      <td>571</td>\n",
       "    </tr>\n",
       "  </tbody>\n",
       "</table>\n",
       "</div>"
      ],
      "text/plain": [
       "              items  How Many Times order\n",
       "0         Hamburger                   622\n",
       "1           Edamame                   620\n",
       "2  Korean Beef Bowl                   588\n",
       "3      Cheeseburger                   583\n",
       "4      French Fries                   571"
      ]
     },
     "execution_count": 35,
     "metadata": {},
     "output_type": "execute_result"
    }
   ],
   "source": [
    "#Top five most ordered item\n",
    "#Create Dataframe\n",
    "most_order_data = data[[\"order_details_id\",\"item_name\"]].copy()\n",
    "#Rename columns names\n",
    "most_order_data = most_order_data.rename(columns ={'order_details_id' : 'How Many Times order','item_name': 'items'})\n",
    "#Group by and sorting\n",
    "most_order_data = most_order_data.groupby('items').count().sort_values('How Many Times order',ascending=[False])\n",
    "most_order_data = most_order_data.head()\n",
    "#Reset Index\n",
    "most_order_data = most_order_data.reset_index()\n",
    "most_order_data"
   ]
  },
  {
   "cell_type": "code",
   "execution_count": 42,
   "id": "63212008-9d3c-4140-b7c2-2181cb899a04",
   "metadata": {},
   "outputs": [
    {
     "data": {
      "image/png": "[encoded data removed]",
      "text/plain": [
       "<Figure size 800x500 with 1 Axes>"
      ]
     },
     "metadata": {},
     "output_type": "display_data"
    }
   ],
   "source": [
    "plt.figure(figsize=(8,5))\n",
    "plt.bar(most_order_data[\"items\"],most_order_data[\"How Many Times order\"],width = 0.4,color = \"c\")\n",
    "plt.xlabel(\"Items\")\n",
    "plt.ylabel(\"How Many Times order\")\n",
    "plt.title(\"Top Five Most Ordered Items\")\n",
    "plt.show()"
   ]
  },
  {
   "cell_type": "code",
   "execution_count": 46,
   "id": "64fab7d7-43d3-486c-954a-cad95466dcfd",
   "metadata": {},
   "outputs": [
    {
     "data": {
      "text/html": [
       "<div>\n",
       "<style scoped>\n",
       "    .dataframe tbody tr th:only-of-type {\n",
       "        vertical-align: middle;\n",
       "    }\n",
       "\n",
       "    .dataframe tbody tr th {\n",
       "        vertical-align: top;\n",
       "    }\n",
       "\n",
       "    .dataframe thead th {\n",
       "        text-align: right;\n",
       "    }\n",
       "</style>\n",
       "<table border=\"1\" class=\"dataframe\">\n",
       "  <thead>\n",
       "    <tr style=\"text-align: right;\">\n",
       "      <th></th>\n",
       "      <th>items</th>\n",
       "      <th>How Many Times order</th>\n",
       "    </tr>\n",
       "  </thead>\n",
       "  <tbody>\n",
       "    <tr>\n",
       "      <th>0</th>\n",
       "      <td>Chicken Tacos</td>\n",
       "      <td>123</td>\n",
       "    </tr>\n",
       "    <tr>\n",
       "      <th>1</th>\n",
       "      <td>Potstickers</td>\n",
       "      <td>205</td>\n",
       "    </tr>\n",
       "    <tr>\n",
       "      <th>2</th>\n",
       "      <td>Cheese Lasagna</td>\n",
       "      <td>207</td>\n",
       "    </tr>\n",
       "    <tr>\n",
       "      <th>3</th>\n",
       "      <td>Steak Tacos</td>\n",
       "      <td>214</td>\n",
       "    </tr>\n",
       "    <tr>\n",
       "      <th>4</th>\n",
       "      <td>Cheese Quesadillas</td>\n",
       "      <td>233</td>\n",
       "    </tr>\n",
       "  </tbody>\n",
       "</table>\n",
       "</div>"
      ],
      "text/plain": [
       "                items  How Many Times order\n",
       "0       Chicken Tacos                   123\n",
       "1         Potstickers                   205\n",
       "2      Cheese Lasagna                   207\n",
       "3         Steak Tacos                   214\n",
       "4  Cheese Quesadillas                   233"
      ]
     },
     "execution_count": 46,
     "metadata": {},
     "output_type": "execute_result"
    }
   ],
   "source": [
    "#Top five less ordered item\n",
    "#Create Dataframe\n",
    "less_order_data = data[[\"order_details_id\",\"item_name\"]].copy()\n",
    "#Rename columns names\n",
    "less_order_data = less_order_data.rename(columns ={'order_details_id' : 'How Many Times order','item_name': 'items'})\n",
    "#Group by and sorting\n",
    "less_order_data = less_order_data.groupby('items').count().sort_values('How Many Times order',ascending=[True])\n",
    "less_order_data = less_order_data.head()\n",
    "#Reset Index\n",
    "less_order_data = less_order_data.reset_index()\n",
    "less_order_data"
   ]
  },
  {
   "cell_type": "code",
   "execution_count": 43,
   "id": "2e4e6a36-467e-4bc8-84e1-9429bb2126b1",
   "metadata": {},
   "outputs": [
    {
     "data": {
      "image/png": "[encoded data removed]",
      "text/plain": [
       "<Figure size 800x500 with 1 Axes>"
      ]
     },
     "metadata": {},
     "output_type": "display_data"
    }
   ],
   "source": [
    "plt.figure(figsize=(8,5))\n",
    "plt.bar(less_order_data[\"items\"],less_order_data[\"How Many Times order\"],width = 0.4,color = \"c\")\n",
    "plt.xlabel(\"Items\")\n",
    "plt.ylabel(\"How Many Times order\")\n",
    "plt.title(\"Top Five Less Ordered Items\")\n",
    "plt.show()"
   ]
  },
  {
   "cell_type": "code",
   "execution_count": 56,
   "id": "6b6b17f8-5207-4dcf-b064-0d8613e69a69",
   "metadata": {},
   "outputs": [
    {
     "data": {
      "text/html": [
       "<div>\n",
       "<style scoped>\n",
       "    .dataframe tbody tr th:only-of-type {\n",
       "        vertical-align: middle;\n",
       "    }\n",
       "\n",
       "    .dataframe tbody tr th {\n",
       "        vertical-align: top;\n",
       "    }\n",
       "\n",
       "    .dataframe thead th {\n",
       "        text-align: right;\n",
       "    }\n",
       "</style>\n",
       "<table border=\"1\" class=\"dataframe\">\n",
       "  <thead>\n",
       "    <tr style=\"text-align: right;\">\n",
       "      <th></th>\n",
       "      <th>Order Month</th>\n",
       "      <th>Total Sales</th>\n",
       "    </tr>\n",
       "  </thead>\n",
       "  <tbody>\n",
       "    <tr>\n",
       "      <th>0</th>\n",
       "      <td>Mar</td>\n",
       "      <td>54610.60</td>\n",
       "    </tr>\n",
       "    <tr>\n",
       "      <th>1</th>\n",
       "      <td>Jan</td>\n",
       "      <td>53816.95</td>\n",
       "    </tr>\n",
       "    <tr>\n",
       "      <th>2</th>\n",
       "      <td>Feb</td>\n",
       "      <td>50790.35</td>\n",
       "    </tr>\n",
       "  </tbody>\n",
       "</table>\n",
       "</div>"
      ],
      "text/plain": [
       "  Order Month  Total Sales\n",
       "0         Mar     54610.60\n",
       "1         Jan     53816.95\n",
       "2         Feb     50790.35"
      ]
     },
     "execution_count": 56,
     "metadata": {},
     "output_type": "execute_result"
    }
   ],
   "source": [
    "#Sales by Month\n",
    "#Create Dataframe\n",
    "sales_month_data = data[[\"Order Month\",\"price\"]].copy()\n",
    "#Rename Columns\n",
    "sales_month_data = sales_month_data.rename(columns ={'price' : 'Total Sales'})\n",
    "#Grouping and Sorting\n",
    "sales_month_data = sales_month_data.groupby('Order Month').sum().sort_values('Total Sales',ascending=[False])\n",
    "#Reset Index\n",
    "sales_month_data = sales_month_data.reset_index()\n",
    "sales_month_data"
   ]
  },
  {
   "cell_type": "code",
   "execution_count": 57,
   "id": "2e278149-9d4b-4d8a-b734-dccb01065845",
   "metadata": {},
   "outputs": [
    {
     "data": {
      "image/png": "[encoded data removed]",
      "text/plain": [
       "<Figure size 640x480 with 1 Axes>"
      ]
     },
     "metadata": {},
     "output_type": "display_data"
    }
   ],
   "source": [
    "plt.plot(sales_month_data[\"Order Month\"],sales_month_data[\"Total Sales\"],color = \"m\",marker = \"o\")\n",
    "plt.xlabel(\"Months\")\n",
    "plt.ylabel(\"Total Sales\")\n",
    "plt.title(\"Total Sales by Month\")\n",
    "plt.show()"
   ]
  },
  {
   "cell_type": "code",
   "execution_count": 58,
   "id": "01f59a70-466a-4c31-9ced-5ee7aeab9c22",
   "metadata": {},
   "outputs": [
    {
     "data": {
      "text/html": [
       "<div>\n",
       "<style scoped>\n",
       "    .dataframe tbody tr th:only-of-type {\n",
       "        vertical-align: middle;\n",
       "    }\n",
       "\n",
       "    .dataframe tbody tr th {\n",
       "        vertical-align: top;\n",
       "    }\n",
       "\n",
       "    .dataframe thead th {\n",
       "        text-align: right;\n",
       "    }\n",
       "</style>\n",
       "<table border=\"1\" class=\"dataframe\">\n",
       "  <thead>\n",
       "    <tr style=\"text-align: right;\">\n",
       "      <th></th>\n",
       "      <th>category</th>\n",
       "      <th>Total Sales</th>\n",
       "    </tr>\n",
       "  </thead>\n",
       "  <tbody>\n",
       "    <tr>\n",
       "      <th>0</th>\n",
       "      <td>Italian</td>\n",
       "      <td>49462.70</td>\n",
       "    </tr>\n",
       "    <tr>\n",
       "      <th>1</th>\n",
       "      <td>Asian</td>\n",
       "      <td>46720.65</td>\n",
       "    </tr>\n",
       "    <tr>\n",
       "      <th>2</th>\n",
       "      <td>Mexican</td>\n",
       "      <td>34796.80</td>\n",
       "    </tr>\n",
       "    <tr>\n",
       "      <th>3</th>\n",
       "      <td>American</td>\n",
       "      <td>28237.75</td>\n",
       "    </tr>\n",
       "  </tbody>\n",
       "</table>\n",
       "</div>"
      ],
      "text/plain": [
       "   category  Total Sales\n",
       "0   Italian     49462.70\n",
       "1     Asian     46720.65\n",
       "2   Mexican     34796.80\n",
       "3  American     28237.75"
      ]
     },
     "execution_count": 58,
     "metadata": {},
     "output_type": "execute_result"
    }
   ],
   "source": [
    "#Total Sales by Category\n",
    "#Create Dataframe\n",
    "Category_sales_data = data[[\"category\",\"price\"]].copy()\n",
    "#Rename columns\n",
    "Category_sales_data = Category_sales_data.rename(columns ={'price' : 'Total Sales'})\n",
    "#Grouping and Sorting\n",
    "Category_sales_data = Category_sales_data.groupby('category').sum().sort_values('Total Sales',ascending=[False])\n",
    "#Reset Index\n",
    "Category_sales_data = Category_sales_data.reset_index()\n",
    "Category_sales_data"
   ]
  },
  {
   "cell_type": "code",
   "execution_count": 59,
   "id": "dcbbb7a2-25e5-4e9e-9d41-9b77a4692f10",
   "metadata": {},
   "outputs": [
    {
     "data": {
      "image/png": "[encoded data removed]",
      "text/plain": [
       "<Figure size 640x480 with 1 Axes>"
      ]
     },
     "metadata": {},
     "output_type": "display_data"
    }
   ],
   "source": [
    "plt.plot(Category_sales_data[\"category\"],Category_sales_data[\"Total Sales\"],color = \"m\",marker = \"o\")\n",
    "plt.xlabel(\"Category\")\n",
    "plt.ylabel(\"Total Sales\")\n",
    "plt.title(\"Total Sales by Category\")\n",
    "plt.show()"
   ]
  },
  {
   "cell_type": "code",
   "execution_count": 60,
   "id": "c333abab-4a29-4392-b073-dd520867e034",
   "metadata": {},
   "outputs": [
    {
     "data": {
      "text/html": [
       "<div>\n",
       "<style scoped>\n",
       "    .dataframe tbody tr th:only-of-type {\n",
       "        vertical-align: middle;\n",
       "    }\n",
       "\n",
       "    .dataframe tbody tr th {\n",
       "        vertical-align: top;\n",
       "    }\n",
       "\n",
       "    .dataframe thead th {\n",
       "        text-align: right;\n",
       "    }\n",
       "</style>\n",
       "<table border=\"1\" class=\"dataframe\">\n",
       "  <thead>\n",
       "    <tr style=\"text-align: right;\">\n",
       "      <th></th>\n",
       "      <th>item_name</th>\n",
       "      <th>Total Sales</th>\n",
       "    </tr>\n",
       "  </thead>\n",
       "  <tbody>\n",
       "    <tr>\n",
       "      <th>0</th>\n",
       "      <td>Korean Beef Bowl</td>\n",
       "      <td>10554.60</td>\n",
       "    </tr>\n",
       "    <tr>\n",
       "      <th>1</th>\n",
       "      <td>Spaghetti &amp; Meatballs</td>\n",
       "      <td>8436.50</td>\n",
       "    </tr>\n",
       "    <tr>\n",
       "      <th>2</th>\n",
       "      <td>Tofu Pad Thai</td>\n",
       "      <td>8149.00</td>\n",
       "    </tr>\n",
       "    <tr>\n",
       "      <th>3</th>\n",
       "      <td>Cheeseburger</td>\n",
       "      <td>8132.85</td>\n",
       "    </tr>\n",
       "    <tr>\n",
       "      <th>4</th>\n",
       "      <td>Hamburger</td>\n",
       "      <td>8054.90</td>\n",
       "    </tr>\n",
       "    <tr>\n",
       "      <th>5</th>\n",
       "      <td>Orange Chicken</td>\n",
       "      <td>7524.00</td>\n",
       "    </tr>\n",
       "    <tr>\n",
       "      <th>6</th>\n",
       "      <td>Eggplant Parmesan</td>\n",
       "      <td>7119.00</td>\n",
       "    </tr>\n",
       "    <tr>\n",
       "      <th>7</th>\n",
       "      <td>Steak Torta</td>\n",
       "      <td>6821.55</td>\n",
       "    </tr>\n",
       "    <tr>\n",
       "      <th>8</th>\n",
       "      <td>Chicken Parmesan</td>\n",
       "      <td>6533.80</td>\n",
       "    </tr>\n",
       "    <tr>\n",
       "      <th>9</th>\n",
       "      <td>Pork Ramen</td>\n",
       "      <td>6462.00</td>\n",
       "    </tr>\n",
       "    <tr>\n",
       "      <th>10</th>\n",
       "      <td>Chicken Burrito</td>\n",
       "      <td>5892.25</td>\n",
       "    </tr>\n",
       "    <tr>\n",
       "      <th>11</th>\n",
       "      <td>Mushroom Ravioli</td>\n",
       "      <td>5564.50</td>\n",
       "    </tr>\n",
       "    <tr>\n",
       "      <th>12</th>\n",
       "      <td>Spaghetti</td>\n",
       "      <td>5321.50</td>\n",
       "    </tr>\n",
       "    <tr>\n",
       "      <th>13</th>\n",
       "      <td>Steak Burrito</td>\n",
       "      <td>5292.30</td>\n",
       "    </tr>\n",
       "    <tr>\n",
       "      <th>14</th>\n",
       "      <td>Meat Lasagna</td>\n",
       "      <td>4900.35</td>\n",
       "    </tr>\n",
       "    <tr>\n",
       "      <th>15</th>\n",
       "      <td>Salmon Roll</td>\n",
       "      <td>4843.80</td>\n",
       "    </tr>\n",
       "    <tr>\n",
       "      <th>16</th>\n",
       "      <td>Shrimp Scampi</td>\n",
       "      <td>4768.05</td>\n",
       "    </tr>\n",
       "    <tr>\n",
       "      <th>17</th>\n",
       "      <td>Chicken Torta</td>\n",
       "      <td>4529.05</td>\n",
       "    </tr>\n",
       "    <tr>\n",
       "      <th>18</th>\n",
       "      <td>California Roll</td>\n",
       "      <td>4242.25</td>\n",
       "    </tr>\n",
       "    <tr>\n",
       "      <th>19</th>\n",
       "      <td>French Fries</td>\n",
       "      <td>3997.00</td>\n",
       "    </tr>\n",
       "    <tr>\n",
       "      <th>20</th>\n",
       "      <td>Fettuccine Alfredo</td>\n",
       "      <td>3610.50</td>\n",
       "    </tr>\n",
       "    <tr>\n",
       "      <th>21</th>\n",
       "      <td>Mac &amp; Cheese</td>\n",
       "      <td>3241.00</td>\n",
       "    </tr>\n",
       "    <tr>\n",
       "      <th>22</th>\n",
       "      <td>Chips &amp; Salsa</td>\n",
       "      <td>3227.00</td>\n",
       "    </tr>\n",
       "    <tr>\n",
       "      <th>23</th>\n",
       "      <td>Cheese Lasagna</td>\n",
       "      <td>3208.50</td>\n",
       "    </tr>\n",
       "    <tr>\n",
       "      <th>24</th>\n",
       "      <td>Edamame</td>\n",
       "      <td>3100.00</td>\n",
       "    </tr>\n",
       "    <tr>\n",
       "      <th>25</th>\n",
       "      <td>Steak Tacos</td>\n",
       "      <td>2985.30</td>\n",
       "    </tr>\n",
       "    <tr>\n",
       "      <th>26</th>\n",
       "      <td>Veggie Burger</td>\n",
       "      <td>2499.00</td>\n",
       "    </tr>\n",
       "    <tr>\n",
       "      <th>27</th>\n",
       "      <td>Cheese Quesadillas</td>\n",
       "      <td>2446.50</td>\n",
       "    </tr>\n",
       "    <tr>\n",
       "      <th>28</th>\n",
       "      <td>Hot Dog</td>\n",
       "      <td>2313.00</td>\n",
       "    </tr>\n",
       "    <tr>\n",
       "      <th>29</th>\n",
       "      <td>Chips &amp; Guacamole</td>\n",
       "      <td>2133.00</td>\n",
       "    </tr>\n",
       "    <tr>\n",
       "      <th>30</th>\n",
       "      <td>Potstickers</td>\n",
       "      <td>1845.00</td>\n",
       "    </tr>\n",
       "    <tr>\n",
       "      <th>31</th>\n",
       "      <td>Chicken Tacos</td>\n",
       "      <td>1469.85</td>\n",
       "    </tr>\n",
       "  </tbody>\n",
       "</table>\n",
       "</div>"
      ],
      "text/plain": [
       "                item_name  Total Sales\n",
       "0        Korean Beef Bowl     10554.60\n",
       "1   Spaghetti & Meatballs      8436.50\n",
       "2           Tofu Pad Thai      8149.00\n",
       "3            Cheeseburger      8132.85\n",
       "4               Hamburger      8054.90\n",
       "5          Orange Chicken      7524.00\n",
       "6       Eggplant Parmesan      7119.00\n",
       "7             Steak Torta      6821.55\n",
       "8        Chicken Parmesan      6533.80\n",
       "9              Pork Ramen      6462.00\n",
       "10        Chicken Burrito      5892.25\n",
       "11       Mushroom Ravioli      5564.50\n",
       "12              Spaghetti      5321.50\n",
       "13          Steak Burrito      5292.30\n",
       "14           Meat Lasagna      4900.35\n",
       "15            Salmon Roll      4843.80\n",
       "16          Shrimp Scampi      4768.05\n",
       "17          Chicken Torta      4529.05\n",
       "18        California Roll      4242.25\n",
       "19           French Fries      3997.00\n",
       "20     Fettuccine Alfredo      3610.50\n",
       "21           Mac & Cheese      3241.00\n",
       "22          Chips & Salsa      3227.00\n",
       "23         Cheese Lasagna      3208.50\n",
       "24                Edamame      3100.00\n",
       "25            Steak Tacos      2985.30\n",
       "26          Veggie Burger      2499.00\n",
       "27     Cheese Quesadillas      2446.50\n",
       "28                Hot Dog      2313.00\n",
       "29      Chips & Guacamole      2133.00\n",
       "30            Potstickers      1845.00\n",
       "31          Chicken Tacos      1469.85"
      ]
     },
     "execution_count": 60,
     "metadata": {},
     "output_type": "execute_result"
    }
   ],
   "source": [
    "#Total Sales by Items\n",
    "#Create Dataframe\n",
    "items_sales_data = data[[\"item_name\",\"price\"]].copy()\n",
    "#Rename Columns\n",
    "items_sales_data = items_sales_data.rename(columns ={'price' : 'Total Sales'})\n",
    "#Grouping and Sorting\n",
    "items_sales_data = items_sales_data.groupby('item_name').sum().sort_values('Total Sales',ascending=[False])\n",
    "#Reset Index\n",
    "items_sales_data = items_sales_data.reset_index()\n",
    "items_sales_data"
   ]
  },
  {
   "cell_type": "code",
   "execution_count": 62,
   "id": "30756580-e912-4768-957e-d9b34b9b4a9c",
   "metadata": {},
   "outputs": [
    {
     "data": {
      "text/html": [
       "<div>\n",
       "<style scoped>\n",
       "    .dataframe tbody tr th:only-of-type {\n",
       "        vertical-align: middle;\n",
       "    }\n",
       "\n",
       "    .dataframe tbody tr th {\n",
       "        vertical-align: top;\n",
       "    }\n",
       "\n",
       "    .dataframe thead th {\n",
       "        text-align: right;\n",
       "    }\n",
       "</style>\n",
       "<table border=\"1\" class=\"dataframe\">\n",
       "  <thead>\n",
       "    <tr style=\"text-align: right;\">\n",
       "      <th></th>\n",
       "      <th>items</th>\n",
       "      <th>Total Sales</th>\n",
       "    </tr>\n",
       "  </thead>\n",
       "  <tbody>\n",
       "    <tr>\n",
       "      <th>0</th>\n",
       "      <td>Korean Beef Bowl</td>\n",
       "      <td>10554.60</td>\n",
       "    </tr>\n",
       "    <tr>\n",
       "      <th>1</th>\n",
       "      <td>Spaghetti &amp; Meatballs</td>\n",
       "      <td>8436.50</td>\n",
       "    </tr>\n",
       "    <tr>\n",
       "      <th>2</th>\n",
       "      <td>Tofu Pad Thai</td>\n",
       "      <td>8149.00</td>\n",
       "    </tr>\n",
       "    <tr>\n",
       "      <th>3</th>\n",
       "      <td>Cheeseburger</td>\n",
       "      <td>8132.85</td>\n",
       "    </tr>\n",
       "    <tr>\n",
       "      <th>4</th>\n",
       "      <td>Hamburger</td>\n",
       "      <td>8054.90</td>\n",
       "    </tr>\n",
       "  </tbody>\n",
       "</table>\n",
       "</div>"
      ],
      "text/plain": [
       "                   items  Total Sales\n",
       "0       Korean Beef Bowl     10554.60\n",
       "1  Spaghetti & Meatballs      8436.50\n",
       "2          Tofu Pad Thai      8149.00\n",
       "3           Cheeseburger      8132.85\n",
       "4              Hamburger      8054.90"
      ]
     },
     "execution_count": 62,
     "metadata": {},
     "output_type": "execute_result"
    }
   ],
   "source": [
    "#Total Sales by Top five most ordered item\n",
    "#Create Dataframe\n",
    "sales_most_order_data = data[[\"price\",\"item_name\"]].copy()\n",
    "#Rename columns names\n",
    "sales_most_order_data = sales_most_order_data.rename(columns ={'price' : 'Total Sales','item_name': 'items'})\n",
    "#Group by and sorting\n",
    "sales_most_order_data = sales_most_order_data.groupby('items').sum().sort_values('Total Sales',ascending=[False])\n",
    "sales_most_order_data = sales_most_order_data.head()\n",
    "#Reset Index\n",
    "sales_most_order_data = sales_most_order_data.reset_index()\n",
    "sales_most_order_data"
   ]
  },
  {
   "cell_type": "code",
   "execution_count": 65,
   "id": "4899b81f-2355-4119-9abe-7f572fcf274c",
   "metadata": {},
   "outputs": [
    {
     "data": {
      "image/png": "[encoded data removed]",
      "text/plain": [
       "<Figure size 900x500 with 1 Axes>"
      ]
     },
     "metadata": {},
     "output_type": "display_data"
    }
   ],
   "source": [
    "plt.figure(figsize=(9,5))\n",
    "plt.plot(sales_most_order_data[\"items\"],sales_most_order_data[\"Total Sales\"],color = \"b\",marker = \"s\")\n",
    "plt.xlabel(\"Top five most ordered item\")\n",
    "plt.ylabel(\"Total Sales\")\n",
    "plt.title(\"Total Sales by Top five most ordered item\")\n",
    "plt.show()"
   ]
  },
  {
   "cell_type": "code",
   "execution_count": 66,
   "id": "b5c49b0d-2f54-49c7-af33-1138762ccf74",
   "metadata": {},
   "outputs": [
    {
     "data": {
      "text/html": [
       "<div>\n",
       "<style scoped>\n",
       "    .dataframe tbody tr th:only-of-type {\n",
       "        vertical-align: middle;\n",
       "    }\n",
       "\n",
       "    .dataframe tbody tr th {\n",
       "        vertical-align: top;\n",
       "    }\n",
       "\n",
       "    .dataframe thead th {\n",
       "        text-align: right;\n",
       "    }\n",
       "</style>\n",
       "<table border=\"1\" class=\"dataframe\">\n",
       "  <thead>\n",
       "    <tr style=\"text-align: right;\">\n",
       "      <th></th>\n",
       "      <th>items</th>\n",
       "      <th>Total Sales</th>\n",
       "    </tr>\n",
       "  </thead>\n",
       "  <tbody>\n",
       "    <tr>\n",
       "      <th>0</th>\n",
       "      <td>Chicken Tacos</td>\n",
       "      <td>1469.85</td>\n",
       "    </tr>\n",
       "    <tr>\n",
       "      <th>1</th>\n",
       "      <td>Potstickers</td>\n",
       "      <td>1845.00</td>\n",
       "    </tr>\n",
       "    <tr>\n",
       "      <th>2</th>\n",
       "      <td>Chips &amp; Guacamole</td>\n",
       "      <td>2133.00</td>\n",
       "    </tr>\n",
       "    <tr>\n",
       "      <th>3</th>\n",
       "      <td>Hot Dog</td>\n",
       "      <td>2313.00</td>\n",
       "    </tr>\n",
       "    <tr>\n",
       "      <th>4</th>\n",
       "      <td>Cheese Quesadillas</td>\n",
       "      <td>2446.50</td>\n",
       "    </tr>\n",
       "  </tbody>\n",
       "</table>\n",
       "</div>"
      ],
      "text/plain": [
       "                items  Total Sales\n",
       "0       Chicken Tacos      1469.85\n",
       "1         Potstickers      1845.00\n",
       "2   Chips & Guacamole      2133.00\n",
       "3             Hot Dog      2313.00\n",
       "4  Cheese Quesadillas      2446.50"
      ]
     },
     "execution_count": 66,
     "metadata": {},
     "output_type": "execute_result"
    }
   ],
   "source": [
    "#Total Sales by Top five less ordered item\n",
    "#Create Dataframe\n",
    "sales_less_order_data = data[[\"price\",\"item_name\"]].copy()\n",
    "#Rename columns names\n",
    "sales_less_order_data = sales_less_order_data.rename(columns ={'price' : 'Total Sales','item_name': 'items'})\n",
    "#Group by and sorting\n",
    "sales_less_order_data = sales_less_order_data.groupby('items').sum().sort_values('Total Sales',ascending=[True])\n",
    "sales_less_order_data = sales_less_order_data.head()\n",
    "#Reset Index\n",
    "sales_less_order_data = sales_less_order_data.reset_index()\n",
    "sales_less_order_data"
   ]
  },
  {
   "cell_type": "code",
   "execution_count": 67,
   "id": "ae2451a9-21fa-4d1d-af10-68574d3cc29b",
   "metadata": {},
   "outputs": [
    {
     "data": {
      "image/png": "[encoded data removed]",
      "text/plain": [
       "<Figure size 900x500 with 1 Axes>"
      ]
     },
     "metadata": {},
     "output_type": "display_data"
    }
   ],
   "source": [
    "plt.figure(figsize=(9,5))\n",
    "plt.plot(sales_less_order_data[\"items\"],sales_less_order_data[\"Total Sales\"],color = \"b\",marker = \"s\")\n",
    "plt.xlabel(\"Top five less ordered item\")\n",
    "plt.ylabel(\"Total Sales\")\n",
    "plt.title(\"Total Sales by Top five Less ordered item\")\n",
    "plt.show()"
   ]
  },
  {
   "cell_type": "code",
   "execution_count": null,
   "id": "021a0a3b-5ba1-49db-b051-9a9c63031b96",
   "metadata": {},
   "outputs": [],
   "source": []
  }
 ],
 "metadata": {
  "kernelspec": {
   "display_name": "Python 3 (ipykernel)",
   "language": "python",
   "name": "python3"
  },
  "language_info": {
   "codemirror_mode": {
    "name": "ipython",
    "version": 3
   },
   "file_extension": ".py",
   "mimetype": "text/x-python",
   "name": "python",
   "nbconvert_exporter": "python",
   "pygments_lexer": "ipython3",
   "version": "3.11.7"
  }
 },
 "nbformat": 4,
 "nbformat_minor": 5
}
